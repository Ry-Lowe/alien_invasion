{
 "cells": [
  {
   "cell_type": "markdown",
   "id": "a27a3a83",
   "metadata": {},
   "source": [
    "<img src=\"https://www.usna.edu/WRC/_files/WRClogos/WRCE-logo-combined-01-crop.png\" width=\"200px\">\n",
    "\n",
    "# Alien Invasion (Chapter 13)\n",
    "\n",
    "Create a seperate file in your alien invasion game for each of the following questions. Paste the content of the file into a Jupyter Notebook cell along with a screen shot of the game (2 cells per answer)"
   ]
  },
  {
   "cell_type": "markdown",
   "id": "5dee5f06",
   "metadata": {},
   "source": [
    "**13-1. Stars:** Find an image of a star. Make a grid of stars appear on the screen."
   ]
  },
  {
   "cell_type": "code",
   "execution_count": 2,
   "id": "7d5bc785",
   "metadata": {},
   "outputs": [],
   "source": [
    "import pygame\n",
    "import time\n",
    "\n",
    "pygame.init()\n",
    "screen = pygame.display.set_mode((1000, 600))\n",
    "screen.fill((0, 0, 0))\n",
    "star = pygame.image.load('particleStar.png')\n",
    "star_rect = star.get_rect()\n",
    "screen_rect = screen.get_rect()\n",
    "screen.blit(star, star_rect)\n",
    "while True:\n",
    "    while True:\n",
    "        screen.blit(star, star_rect)\n",
    "        star_rect.x += (2 * star_rect.width)\n",
    "        if star_rect.right > screen_rect.right:\n",
    "            break\n",
    "    star_rect.left = screen_rect.left\n",
    "    star_rect.y += (2 * star_rect.height)\n",
    "    if star_rect.bottom > screen_rect.bottom:\n",
    "        break\n",
    "    screen.blit(star, star_rect)\n",
    "pygame.display.flip()\n",
    "time.sleep(10)"
   ]
  },
  {
   "cell_type": "markdown",
   "id": "978fa980",
   "metadata": {},
   "source": [
    "![stars](stars.png)"
   ]
  },
  {
   "cell_type": "markdown",
   "id": "db53b5ed",
   "metadata": {},
   "source": [
    "**13-2: Better Stars:** You can make a more realistic star pattern by introducing randomness when you place each star. Recall that you can get a random number like this:\n",
    "\n",
    "    from random import randint\n",
    "    random_number = randint(-10,10)\n",
    "This code returns a random integer between -10 and 10. Using your code from 13-1, adjust each star's position by a random amount."
   ]
  },
  {
   "cell_type": "code",
   "execution_count": 2,
   "id": "fc148f30",
   "metadata": {},
   "outputs": [],
   "source": [
    "import pygame\n",
    "import time\n",
    "from random import randint\n",
    "\n",
    "pygame.init()\n",
    "screen = pygame.display.set_mode((1000, 600))\n",
    "screen.fill((0, 0, 0))\n",
    "star = pygame.image.load('particleStar.png')\n",
    "star_rect = star.get_rect()\n",
    "screen_rect = screen.get_rect()\n",
    "screen.blit(star, star_rect)\n",
    "\n",
    "while True:\n",
    "    while True:\n",
    "        randnumx = randint(star_rect.width, 200)\n",
    "        screen.blit(star, star_rect)\n",
    "        star_rect.x += randnumx\n",
    "        if star_rect.right > screen_rect.right:\n",
    "            break\n",
    "    randnumy = randint(star_rect.height, 200)\n",
    "    star_rect.left = screen_rect.left\n",
    "    star_rect.y += randnumy\n",
    "    if star_rect.bottom > screen_rect.bottom:\n",
    "        break\n",
    "    screen.blit(star, star_rect)\n",
    "pygame.display.flip()\n",
    "time.sleep(10)"
   ]
  },
  {
   "cell_type": "markdown",
   "id": "66080441",
   "metadata": {},
   "source": [
    "![stars](betterstars.png)"
   ]
  },
  {
   "cell_type": "markdown",
   "id": "3a13ae4d",
   "metadata": {},
   "source": [
    "**13-3. Raindrops:** Find an image of a raindrop and create a grid of raindrops. Make the raindrops fall toward the bottom of the screen until they dissappear."
   ]
  },
  {
   "cell_type": "code",
   "execution_count": 2,
   "id": "36da1ca2",
   "metadata": {},
   "outputs": [],
   "source": [
    "import pygame\n",
    "import time\n",
    "\n",
    "pygame.init()\n",
    "screen = pygame.display.set_mode((1000, 600))\n",
    "screen.fill((0, 0, 0))\n",
    "star = pygame.image.load('ballBlue.png')\n",
    "star_rect = star.get_rect()\n",
    "screen_rect = screen.get_rect()\n",
    "\n",
    "while True:\n",
    "    screen.fill((0, 0, 0))\n",
    "    screen.blit(star, star_rect)\n",
    "    while True:\n",
    "        screen.blit(star, star_rect)\n",
    "        star_rect.x += (2 * star_rect.width)\n",
    "        if star_rect.right > screen_rect.right:\n",
    "            break\n",
    "    star_rect.left = screen_rect.left\n",
    "    star_rect.y += (2 * star_rect.height)\n",
    "    if star_rect.bottom > screen_rect.bottom:\n",
    "        screen.fill((0,0,0))\n",
    "        break\n",
    "    time.sleep(.2)\n",
    "    pygame.display.flip()\n",
    "pygame.display.flip()\n",
    "time.sleep(10)"
   ]
  },
  {
   "cell_type": "markdown",
   "id": "bf01631b",
   "metadata": {},
   "source": [
    "![stars](raindrops.png)"
   ]
  },
  {
   "cell_type": "markdown",
   "id": "64f301bb",
   "metadata": {},
   "source": [
    "**13-4. Steady Rain:** Modify the code from 13-3 so when a row of rain drops disappears off the bottom of the screen, a new row appears at the top of the screen and begins to fall. "
   ]
  },
  {
   "cell_type": "code",
   "execution_count": 2,
   "id": "96e4137b",
   "metadata": {},
   "outputs": [],
   "source": [
    "import pygame\n",
    "import time\n",
    "\n",
    "pygame.init()\n",
    "screen = pygame.display.set_mode((1000, 600))\n",
    "screen.fill((0, 0, 0))\n",
    "star = pygame.image.load('ballBlue.png')\n",
    "star_rect = star.get_rect()\n",
    "screen_rect = screen.get_rect()\n",
    "\n",
    "while True:\n",
    "    screen.fill((0, 0, 0))\n",
    "    screen.blit(star, star_rect)\n",
    "    while True:\n",
    "        screen.blit(star, star_rect)\n",
    "        star_rect.x += (2 * star_rect.width)\n",
    "        if star_rect.right > screen_rect.right:\n",
    "            break\n",
    "    star_rect.left = screen_rect.left\n",
    "    star_rect.y += (2 * star_rect.height)\n",
    "    if star_rect.bottom > screen_rect.bottom:\n",
    "        screen.fill((0,0,0))\n",
    "        star_rect.topleft = screen_rect.topleft\n",
    "        continue\n",
    "    time.sleep(.2)\n",
    "    pygame.display.flip()"
   ]
  },
  {
   "cell_type": "markdown",
   "id": "90cbe6c7",
   "metadata": {},
   "source": [
    "![stars](steadyrain.png)"
   ]
  },
  {
   "cell_type": "markdown",
   "id": "89f48e50",
   "metadata": {},
   "source": [
    "**13-5 Sideways Shooter Part 2:** We've come a long way since Exercise 12-6, Sideways Shooter. For this exercise, try to develop Sideways Shooter to the same point we've brought *Alien Invasion* to. Add a fleet of aliens, and make them move sideways toward the ship. Or, write code that places aliens at random positions along the right side of the screen and then sends them toward the ship. Also, write code that makes the aliens disappear when they're hit."
   ]
  },
  {
   "cell_type": "code",
   "execution_count": 2,
   "id": "03770250",
   "metadata": {},
   "outputs": [],
   "source": [
    "# code"
   ]
  },
  {
   "cell_type": "markdown",
   "id": "f0c11383",
   "metadata": {},
   "source": [
    "![stars](raindrops.png)"
   ]
  },
  {
   "cell_type": "markdown",
   "id": "fd7847d6",
   "metadata": {},
   "source": [
    "**13-6. Game Over:** In Sideways Shooter, keep track of the number of times the ship is hit and the number of times an alien is hit by the ship. Decide on an appropriate condition for ending the game, and stop the game when this situation occurs. "
   ]
  },
  {
   "cell_type": "code",
   "execution_count": 2,
   "id": "9d758550",
   "metadata": {},
   "outputs": [],
   "source": [
    "# code"
   ]
  },
  {
   "cell_type": "markdown",
   "id": "23870754",
   "metadata": {},
   "source": [
    "![stars](raindrops.png)"
   ]
  }
 ],
 "metadata": {
  "kernelspec": {
   "display_name": "Python 3 (ipykernel)",
   "language": "python",
   "name": "python3"
  },
  "language_info": {
   "codemirror_mode": {
    "name": "ipython",
    "version": 3
   },
   "file_extension": ".py",
   "mimetype": "text/x-python",
   "name": "python",
   "nbconvert_exporter": "python",
   "pygments_lexer": "ipython3",
   "version": "3.9.12"
  }
 },
 "nbformat": 4,
 "nbformat_minor": 5
}
