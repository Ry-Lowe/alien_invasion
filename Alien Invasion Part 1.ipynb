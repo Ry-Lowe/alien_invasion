{
 "cells": [
  {
   "cell_type": "markdown",
   "id": "a27a3a83",
   "metadata": {},
   "source": [
    "<img src=\"https://www.usna.edu/WRC/_files/WRClogos/WRCE-logo-combined-01-crop.png\" width=\"200px\">\n",
    "\n",
    "# Alien Invasion (Chapters 12)\n",
    "\n",
    "Create a seperate file in your alien invasion game for each of the following questions. Paste the content of the file into a Jupyter Notebook cell along with a screen shot of the game (2 cells per answer)"
   ]
  },
  {
   "cell_type": "markdown",
   "id": "5dee5f06",
   "metadata": {},
   "source": [
    "**12-1. Blue Sky:** Make a Pygame window with a blue background"
   ]
  },
  {
   "cell_type": "code",
   "execution_count": 2,
   "id": "7d5bc785",
   "metadata": {},
   "outputs": [],
   "source": [
    "import pygame\n",
    "import time\n",
    "pygame.init()\n",
    "screen = pygame.display.set_mode((200, 200))\n",
    "screen.fill((0, 0, 255))\n",
    "pygame.display.flip()\n",
    "time.sleep(8)"
   ]
  },
  {
   "cell_type": "markdown",
   "id": "978fa980",
   "metadata": {},
   "source": [
    "![bluesky](Chpt12homework/snips/bluesky.png)\n"
   ]
  },
  {
   "cell_type": "markdown",
   "id": "db53b5ed",
   "metadata": {},
   "source": [
    "**12-2. Game Character:** Find a bitmap image of a game character you like or convert an image to a bitmap. Make a class that draws the character at the center of the screen and match the background color of the image to the background color of the screen or vice versa"
   ]
  },
  {
   "cell_type": "code",
   "execution_count": 2,
   "id": "fc148f30",
   "metadata": {},
   "outputs": [],
   "source": [
    "import pygame\n",
    "import time\n",
    "pygame.init()\n",
    "screen = pygame.display.set_mode((1000, 600))\n",
    "screen.fill((255, 255, 255))\n",
    "class Draw_character():\n",
    "    def __init__(self):\n",
    "        x=0\n",
    "\n",
    "    def draw(self):\n",
    "        sprout = pygame.image.load('sprout.bmp')\n",
    "        character_rect = sprout.get_rect()\n",
    "        screen_rect = screen.get_rect()\n",
    "        character_rect.center = screen_rect.center\n",
    "        screen.blit(sprout, character_rect)\n",
    "        pygame.display.flip()\n",
    "\n",
    "Sprout = Draw_character()\n",
    "Sprout.draw()\n",
    "time.sleep(8)"
   ]
  },
  {
   "cell_type": "markdown",
   "id": "66080441",
   "metadata": {},
   "source": [
    "![character](Chpt12homework/snips/character.png)\n"
   ]
  },
  {
   "cell_type": "markdown",
   "id": "3a13ae4d",
   "metadata": {},
   "source": [
    "**12-4. Rocket:** Make a game that begins with a rocket in the center of the screen. Allow the player to move the rocket up, down, left, or right using the four arrow keys. Make sure the rocket never moves beyond any edge of the screen."
   ]
  },
  {
   "cell_type": "code",
   "execution_count": 2,
   "id": "36da1ca2",
   "metadata": {},
   "outputs": [],
   "source": [
    "import sys\n",
    "import pygame\n",
    "import time\n",
    "pygame.init()\n",
    "screen = pygame.display.set_mode((1000, 600))\n",
    "screen.fill((255, 255, 255))\n",
    "class Draw_character():\n",
    "    def __init__(self):\n",
    "        x=0\n",
    "\n",
    "    def draw(self):\n",
    "        sprout = pygame.image.load(\"C:/Users/m253768/Desktop/EW200/Labs/Lab7/alien_invasion/images/rocket.bmp\")\n",
    "        character_rect = sprout.get_rect()\n",
    "        screen_rect = screen.get_rect()\n",
    "        character_rect.center = screen_rect.center\n",
    "\n",
    "\n",
    "        while True:\n",
    "\n",
    "            for event in pygame.event.get():\n",
    "                if event.type == pygame.QUIT:\n",
    "                    sys.exit()\n",
    "                elif event.type == pygame.KEYDOWN:\n",
    "                    if event.key == pygame.K_RIGHT:\n",
    "                        character_rect.x += 40\n",
    "                        if character_rect.right > screen_rect.right:\n",
    "                            character_rect.right = screen_rect.right\n",
    "                    elif event.key == pygame.K_LEFT:\n",
    "                        character_rect.x -= 40\n",
    "                        if character_rect.left < screen_rect.left:\n",
    "                            character_rect.left = screen_rect.left\n",
    "                    elif event.key == pygame.K_UP:\n",
    "                        character_rect.y -= 40\n",
    "                        if character_rect.top < screen_rect.top:\n",
    "                            character_rect.top = screen_rect.top\n",
    "                    elif event.key == pygame.K_DOWN:\n",
    "                        character_rect.y += 40\n",
    "                        if character_rect.bottom > screen_rect.bottom:\n",
    "                            character_rect.bottom = screen_rect.bottom\n",
    "                screen.fill((255, 255, 255))\n",
    "                screen.blit(sprout, character_rect)\n",
    "                pygame.display.flip()\n",
    "\n",
    "Sprout = Draw_character()\n",
    "Sprout.draw()"
   ]
  },
  {
   "cell_type": "markdown",
   "id": "bf01631b",
   "metadata": {},
   "source": [
    "![rocket](Chpt12homework/snips/rocket.png)"
   ]
  },
  {
   "cell_type": "markdown",
   "id": "64f301bb",
   "metadata": {},
   "source": [
    "**12-5. Keys:** Make a Pygame file that creates an empty screen. In the event loop, print the `event.key` attribute whenever a `pygame.KEYDOWN` event is detected. Run the program and press various keys to see how Pygame responds. Your screen shot should be the text output from the Pycharm consolse (not the game screen)"
   ]
  },
  {
   "cell_type": "code",
   "execution_count": 2,
   "id": "96e4137b",
   "metadata": {},
   "outputs": [],
   "source": [
    "import pygame\n",
    "import sys\n",
    "while True:\n",
    "    pygame.init()\n",
    "    screen = pygame.display.set_mode((200, 200))\n",
    "    screen.fill((0, 0, 255))\n",
    "    pygame.display.flip()\n",
    "\n",
    "\n",
    "\n",
    "    for event in pygame.event.get():\n",
    "        if event.type == pygame.QUIT:\n",
    "            sys.exit()\n",
    "        elif event.type == pygame.KEYDOWN:\n",
    "            print(event.key)"
   ]
  },
  {
   "cell_type": "markdown",
   "id": "90cbe6c7",
   "metadata": {},
   "source": [
    "![keys](Chpt12homework/snips/keys.png)"
   ]
  },
  {
   "cell_type": "markdown",
   "id": "89f48e50",
   "metadata": {},
   "source": [
    "**12-6. Sideways Shooter:** Write a game that places a ship on the left side of the screen and allows the player to move the ship up and down. Make the ship fire a bullet that travels right across the screen when the player presses the spacebar. Make sure the bullets are deleted once they disappear off the screen"
   ]
  },
  {
   "cell_type": "code",
   "execution_count": 2,
   "id": "03770250",
   "metadata": {},
   "outputs": [],
   "source": [
    "import sys\n",
    "import pygame\n",
    "import time\n",
    "pygame.init()\n",
    "screen = pygame.display.set_mode((1000, 600))\n",
    "screen.fill((255, 255, 255))\n",
    "class Draw_character():\n",
    "    def __init__(self):\n",
    "        x=0\n",
    "\n",
    "    def draw(self):\n",
    "        sprout = pygame.image.load(\"C:/Users/m253768/Desktop/EW200/Labs/Lab7/alien_invasion/images/rocket.bmp\")\n",
    "        character_rect = sprout.get_rect()\n",
    "        screen_rect = screen.get_rect()\n",
    "        character_rect.midleft = screen_rect.midleft\n",
    "        bullet = pygame.Rect(0,0,10,5)\n",
    "        color = (0,0,0)\n",
    "        bullet.center = character_rect.center\n",
    "\n",
    "\n",
    "        while True:\n",
    "\n",
    "            for event in pygame.event.get():\n",
    "                if event.type == pygame.QUIT:\n",
    "                    sys.exit()\n",
    "                elif event.type == pygame.KEYDOWN:\n",
    "                    if event.key == pygame.K_UP:\n",
    "                        character_rect.y -= 40\n",
    "                        bullet.center = character_rect.center\n",
    "                        if character_rect.top < screen_rect.top:\n",
    "                            character_rect.top = screen_rect.top\n",
    "\n",
    "                    elif event.key == pygame.K_DOWN:\n",
    "                        character_rect.y += 40\n",
    "                        bullet.center = character_rect.center\n",
    "                        if character_rect.bottom > screen_rect.bottom:\n",
    "                            character_rect.bottom = screen_rect.bottom\n",
    "\n",
    "                    elif event.key == pygame.K_SPACE:\n",
    "                        while bullet.right < screen_rect.right:\n",
    "                            bullet.x += 10\n",
    "                            time.sleep(.02)\n",
    "                            pygame.draw.rect(screen, color, bullet)\n",
    "                            pygame.display.flip()\n",
    "                            screen.fill((255,255,255))\n",
    "                            screen.blit(sprout, character_rect)\n",
    "                        if bullet.right >= screen_rect.right:\n",
    "                            bullet.center = character_rect.center\n",
    "                            pygame.draw.rect(screen, color, bullet)\n",
    "                            pygame.display.flip()\n",
    "                            screen.fill((255, 255, 255))\n",
    "                            screen.blit(sprout, character_rect)\n",
    "\n",
    "                screen.fill((255, 255, 255))\n",
    "                screen.blit(sprout, character_rect)\n",
    "                pygame.draw.rect(screen, color, bullet)\n",
    "                pygame.display.flip()\n",
    "\n",
    "Sprout = Draw_character()\n",
    "Sprout.draw()"
   ]
  },
  {
   "cell_type": "markdown",
   "id": "23870754",
   "metadata": {},
   "source": [
    "![shooter](Chpt12homework/snips/shooter.png)"
   ]
  },
  {
   "cell_type": "code",
   "execution_count": null,
   "id": "da101acf",
   "metadata": {},
   "outputs": [],
   "source": []
  }
 ],
 "metadata": {
  "kernelspec": {
   "display_name": "Python 3 (ipykernel)",
   "language": "python",
   "name": "python3"
  },
  "language_info": {
   "codemirror_mode": {
    "name": "ipython",
    "version": 3
   },
   "file_extension": ".py",
   "mimetype": "text/x-python",
   "name": "python",
   "nbconvert_exporter": "python",
   "pygments_lexer": "ipython3",
   "version": "3.9.12"
  }
 },
 "nbformat": 4,
 "nbformat_minor": 5
}
